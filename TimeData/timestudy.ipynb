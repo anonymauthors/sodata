{
 "cells": [
  {
   "cell_type": "code",
   "execution_count": 223,
   "metadata": {
    "collapsed": true
   },
   "outputs": [],
   "source": [
    "import pandas as pd"
   ]
  },
  {
   "cell_type": "code",
   "execution_count": 224,
   "metadata": {
    "collapsed": false
   },
   "outputs": [
    {
     "name": "stdout",
     "output_type": "stream",
     "text": [
      "(132, 3)\n"
     ]
    },
    {
     "data": {
      "text/html": [
       "<div>\n",
       "<style scoped>\n",
       "    .dataframe tbody tr th:only-of-type {\n",
       "        vertical-align: middle;\n",
       "    }\n",
       "\n",
       "    .dataframe tbody tr th {\n",
       "        vertical-align: top;\n",
       "    }\n",
       "\n",
       "    .dataframe thead th {\n",
       "        text-align: right;\n",
       "    }\n",
       "</style>\n",
       "<table border=\"1\" class=\"dataframe\">\n",
       "  <thead>\n",
       "    <tr style=\"text-align: right;\">\n",
       "      <th></th>\n",
       "      <th>Title</th>\n",
       "      <th>Unnamed: 1</th>\n",
       "      <th>Unnamed: 2</th>\n",
       "    </tr>\n",
       "  </thead>\n",
       "  <tbody>\n",
       "    <tr>\n",
       "      <th>0</th>\n",
       "      <td>Caffe: how to get the phase of a Python layer?</td>\n",
       "      <td>Model Creation</td>\n",
       "      <td>Choice of Model</td>\n",
       "    </tr>\n",
       "    <tr>\n",
       "      <th>1</th>\n",
       "      <td>What does global pooling do?</td>\n",
       "      <td>Model Creation</td>\n",
       "      <td>Choice of Model</td>\n",
       "    </tr>\n",
       "    <tr>\n",
       "      <th>2</th>\n",
       "      <td>Caffe didn't see hdf5.h when compiling</td>\n",
       "      <td>Dependency</td>\n",
       "      <td>Library</td>\n",
       "    </tr>\n",
       "    <tr>\n",
       "      <th>3</th>\n",
       "      <td>what does C-contiguous fashion mean in caffe b...</td>\n",
       "      <td>Model Creation</td>\n",
       "      <td>Choice of Model</td>\n",
       "    </tr>\n",
       "    <tr>\n",
       "      <th>4</th>\n",
       "      <td>Caffe layer creation failure</td>\n",
       "      <td>Model Creation error</td>\n",
       "      <td>Choice of Model</td>\n",
       "    </tr>\n",
       "  </tbody>\n",
       "</table>\n",
       "</div>"
      ],
      "text/plain": [
       "                                               Title            Unnamed: 1  \\\n",
       "0     Caffe: how to get the phase of a Python layer?        Model Creation   \n",
       "1                       What does global pooling do?        Model Creation   \n",
       "2             Caffe didn't see hdf5.h when compiling            Dependency   \n",
       "3  what does C-contiguous fashion mean in caffe b...        Model Creation   \n",
       "4                       Caffe layer creation failure  Model Creation error   \n",
       "\n",
       "        Unnamed: 2  \n",
       "0  Choice of Model  \n",
       "1  Choice of Model  \n",
       "2          Library  \n",
       "3  Choice of Model  \n",
       "4  Choice of Model  "
      ]
     },
     "execution_count": 224,
     "metadata": {},
     "output_type": "execute_result"
    }
   ],
   "source": [
    "caffe = pd.read_csv(\"caffe.csv\")\n",
    "print(caffe.shape)\n",
    "caffe.head()"
   ]
  },
  {
   "cell_type": "code",
   "execution_count": 225,
   "metadata": {
    "collapsed": false
   },
   "outputs": [
    {
     "name": "stdout",
     "output_type": "stream",
     "text": [
      "(132, 3)\n"
     ]
    },
    {
     "data": {
      "text/html": [
       "<div>\n",
       "<style scoped>\n",
       "    .dataframe tbody tr th:only-of-type {\n",
       "        vertical-align: middle;\n",
       "    }\n",
       "\n",
       "    .dataframe tbody tr th {\n",
       "        vertical-align: top;\n",
       "    }\n",
       "\n",
       "    .dataframe thead th {\n",
       "        text-align: right;\n",
       "    }\n",
       "</style>\n",
       "<table border=\"1\" class=\"dataframe\">\n",
       "  <thead>\n",
       "    <tr style=\"text-align: right;\">\n",
       "      <th></th>\n",
       "      <th>Title</th>\n",
       "      <th>CreationDate</th>\n",
       "    </tr>\n",
       "  </thead>\n",
       "  <tbody>\n",
       "    <tr>\n",
       "      <th>0</th>\n",
       "      <td>Writing data to LMDB with Python very slow</td>\n",
       "      <td>2015-07-27 09:16:19</td>\n",
       "    </tr>\n",
       "    <tr>\n",
       "      <th>1</th>\n",
       "      <td>Test labels for regression caffe, float not al...</td>\n",
       "      <td>2015-08-02 18:05:20</td>\n",
       "    </tr>\n",
       "    <tr>\n",
       "      <th>2</th>\n",
       "      <td>L2 normalization in Caffe using already existi...</td>\n",
       "      <td>2016-04-02 05:47:18</td>\n",
       "    </tr>\n",
       "    <tr>\n",
       "      <th>3</th>\n",
       "      <td>Undefined symbols for architecture x86_64: for...</td>\n",
       "      <td>2015-01-11 17:44:37</td>\n",
       "    </tr>\n",
       "    <tr>\n",
       "      <th>4</th>\n",
       "      <td>Monitor training/validation process in Caffe</td>\n",
       "      <td>2015-08-13 01:43:08</td>\n",
       "    </tr>\n",
       "    <tr>\n",
       "      <th>5</th>\n",
       "      <td>LRU with Caffeine</td>\n",
       "      <td>2016-01-09 14:51:15</td>\n",
       "    </tr>\n",
       "    <tr>\n",
       "      <th>6</th>\n",
       "      <td>Caffe does not make snapshots on SIGINT</td>\n",
       "      <td>2016-02-16 16:42:51</td>\n",
       "    </tr>\n",
       "    <tr>\n",
       "      <th>7</th>\n",
       "      <td>Importing caffe's PriorBox into TensorRT</td>\n",
       "      <td>2018-09-19 03:59:54</td>\n",
       "    </tr>\n",
       "    <tr>\n",
       "      <th>8</th>\n",
       "      <td>Counting the number of multiply-add operations...</td>\n",
       "      <td>2017-06-12 19:49:35</td>\n",
       "    </tr>\n",
       "    <tr>\n",
       "      <th>9</th>\n",
       "      <td>how to append data to existing LMDB?</td>\n",
       "      <td>2016-01-16 00:32:13</td>\n",
       "    </tr>\n",
       "  </tbody>\n",
       "</table>\n",
       "</div>"
      ],
      "text/plain": [
       "                                               Title         CreationDate\n",
       "0         Writing data to LMDB with Python very slow  2015-07-27 09:16:19\n",
       "1  Test labels for regression caffe, float not al...  2015-08-02 18:05:20\n",
       "2  L2 normalization in Caffe using already existi...  2016-04-02 05:47:18\n",
       "3  Undefined symbols for architecture x86_64: for...  2015-01-11 17:44:37\n",
       "4       Monitor training/validation process in Caffe  2015-08-13 01:43:08\n",
       "5                                  LRU with Caffeine  2016-01-09 14:51:15\n",
       "6            Caffe does not make snapshots on SIGINT  2016-02-16 16:42:51\n",
       "7           Importing caffe's PriorBox into TensorRT  2018-09-19 03:59:54\n",
       "8  Counting the number of multiply-add operations...  2017-06-12 19:49:35\n",
       "9               how to append data to existing LMDB?  2016-01-16 00:32:13"
      ]
     },
     "execution_count": 225,
     "metadata": {},
     "output_type": "execute_result"
    }
   ],
   "source": [
    "caffedate = pd.read_csv('caffedate.csv')\n",
    "print(caffe.shape)\n",
    "caffedate.head(n = 10)"
   ]
  },
  {
   "cell_type": "code",
   "execution_count": 226,
   "metadata": {
    "collapsed": false
   },
   "outputs": [],
   "source": [
    " resultcaffe = pd.merge(caffe, caffedate, on=['Title', 'Title'])"
   ]
  },
  {
   "cell_type": "code",
   "execution_count": 227,
   "metadata": {
    "collapsed": false
   },
   "outputs": [
    {
     "name": "stdout",
     "output_type": "stream",
     "text": [
      "(132, 4)\n"
     ]
    }
   ],
   "source": [
    "print(resultcaffe.shape)"
   ]
  },
  {
   "cell_type": "code",
   "execution_count": 228,
   "metadata": {
    "collapsed": false
   },
   "outputs": [
    {
     "data": {
      "text/html": [
       "<div>\n",
       "<style scoped>\n",
       "    .dataframe tbody tr th:only-of-type {\n",
       "        vertical-align: middle;\n",
       "    }\n",
       "\n",
       "    .dataframe tbody tr th {\n",
       "        vertical-align: top;\n",
       "    }\n",
       "\n",
       "    .dataframe thead th {\n",
       "        text-align: right;\n",
       "    }\n",
       "</style>\n",
       "<table border=\"1\" class=\"dataframe\">\n",
       "  <thead>\n",
       "    <tr style=\"text-align: right;\">\n",
       "      <th></th>\n",
       "      <th>Title</th>\n",
       "      <th>Unnamed: 1</th>\n",
       "      <th>Unnamed: 2</th>\n",
       "      <th>CreationDate</th>\n",
       "    </tr>\n",
       "  </thead>\n",
       "  <tbody>\n",
       "    <tr>\n",
       "      <th>0</th>\n",
       "      <td>Caffe: how to get the phase of a Python layer?</td>\n",
       "      <td>Model Creation</td>\n",
       "      <td>Choice of Model</td>\n",
       "      <td>2015-12-31 17:35:59</td>\n",
       "    </tr>\n",
       "    <tr>\n",
       "      <th>1</th>\n",
       "      <td>What does global pooling do?</td>\n",
       "      <td>Model Creation</td>\n",
       "      <td>Choice of Model</td>\n",
       "      <td>2017-02-06 14:45:51</td>\n",
       "    </tr>\n",
       "    <tr>\n",
       "      <th>2</th>\n",
       "      <td>Caffe didn't see hdf5.h when compiling</td>\n",
       "      <td>Dependency</td>\n",
       "      <td>Library</td>\n",
       "      <td>2016-05-03 14:53:38</td>\n",
       "    </tr>\n",
       "    <tr>\n",
       "      <th>3</th>\n",
       "      <td>what does C-contiguous fashion mean in caffe b...</td>\n",
       "      <td>Model Creation</td>\n",
       "      <td>Choice of Model</td>\n",
       "      <td>2016-06-02 16:53:45</td>\n",
       "    </tr>\n",
       "    <tr>\n",
       "      <th>4</th>\n",
       "      <td>Caffe layer creation failure</td>\n",
       "      <td>Model Creation error</td>\n",
       "      <td>Choice of Model</td>\n",
       "      <td>2015-05-19 12:04:11</td>\n",
       "    </tr>\n",
       "  </tbody>\n",
       "</table>\n",
       "</div>"
      ],
      "text/plain": [
       "                                               Title            Unnamed: 1  \\\n",
       "0     Caffe: how to get the phase of a Python layer?        Model Creation   \n",
       "1                       What does global pooling do?        Model Creation   \n",
       "2             Caffe didn't see hdf5.h when compiling            Dependency   \n",
       "3  what does C-contiguous fashion mean in caffe b...        Model Creation   \n",
       "4                       Caffe layer creation failure  Model Creation error   \n",
       "\n",
       "        Unnamed: 2         CreationDate  \n",
       "0  Choice of Model  2015-12-31 17:35:59  \n",
       "1  Choice of Model  2017-02-06 14:45:51  \n",
       "2          Library  2016-05-03 14:53:38  \n",
       "3  Choice of Model  2016-06-02 16:53:45  \n",
       "4  Choice of Model  2015-05-19 12:04:11  "
      ]
     },
     "execution_count": 228,
     "metadata": {},
     "output_type": "execute_result"
    }
   ],
   "source": [
    "resultcaffe.head()"
   ]
  },
  {
   "cell_type": "code",
   "execution_count": 229,
   "metadata": {
    "collapsed": false
   },
   "outputs": [],
   "source": [
    "resultcaffe.to_csv(\"withdate/caffe.csv\")"
   ]
  },
  {
   "cell_type": "code",
   "execution_count": 230,
   "metadata": {
    "collapsed": false
   },
   "outputs": [
    {
     "name": "stdout",
     "output_type": "stream",
     "text": [
      "(17, 3) (16, 4)\n"
     ]
    },
    {
     "data": {
      "text/html": [
       "<div>\n",
       "<style scoped>\n",
       "    .dataframe tbody tr th:only-of-type {\n",
       "        vertical-align: middle;\n",
       "    }\n",
       "\n",
       "    .dataframe tbody tr th {\n",
       "        vertical-align: top;\n",
       "    }\n",
       "\n",
       "    .dataframe thead th {\n",
       "        text-align: right;\n",
       "    }\n",
       "</style>\n",
       "<table border=\"1\" class=\"dataframe\">\n",
       "  <thead>\n",
       "    <tr style=\"text-align: right;\">\n",
       "      <th></th>\n",
       "      <th>Title</th>\n",
       "      <th>Unnamed: 1</th>\n",
       "      <th>Unnamed: 2</th>\n",
       "      <th>CreationDate</th>\n",
       "    </tr>\n",
       "  </thead>\n",
       "  <tbody>\n",
       "    <tr>\n",
       "      <th>0</th>\n",
       "      <td>How to get sparse matrices into H2O?</td>\n",
       "      <td>Adapting data</td>\n",
       "      <td>Data Preparation</td>\n",
       "      <td>2015-09-29 11:51:22</td>\n",
       "    </tr>\n",
       "    <tr>\n",
       "      <th>1</th>\n",
       "      <td>Difference between spark with h2o and sparklin...</td>\n",
       "      <td>Model Creation</td>\n",
       "      <td>Choice of Model</td>\n",
       "      <td>2017-04-05 16:08:14</td>\n",
       "    </tr>\n",
       "    <tr>\n",
       "      <th>2</th>\n",
       "      <td>H2O R api: retrieving optimal model from grid ...</td>\n",
       "      <td>Hyper parameter tuning</td>\n",
       "      <td>Hyper parameter tuning</td>\n",
       "      <td>2016-02-26 17:24:57</td>\n",
       "    </tr>\n",
       "    <tr>\n",
       "      <th>3</th>\n",
       "      <td>How to get different Variable Importance for e...</td>\n",
       "      <td>Feature Selection</td>\n",
       "      <td>Data Preparation</td>\n",
       "      <td>2017-12-02 15:00:17</td>\n",
       "    </tr>\n",
       "    <tr>\n",
       "      <th>4</th>\n",
       "      <td>Loading data bigger than the memory size in h2o</td>\n",
       "      <td>Adapting data</td>\n",
       "      <td>Data Preparation</td>\n",
       "      <td>2015-12-04 07:10:29</td>\n",
       "    </tr>\n",
       "  </tbody>\n",
       "</table>\n",
       "</div>"
      ],
      "text/plain": [
       "                                               Title              Unnamed: 1  \\\n",
       "0               How to get sparse matrices into H2O?           Adapting data   \n",
       "1  Difference between spark with h2o and sparklin...          Model Creation   \n",
       "2  H2O R api: retrieving optimal model from grid ...  Hyper parameter tuning   \n",
       "3  How to get different Variable Importance for e...       Feature Selection   \n",
       "4    Loading data bigger than the memory size in h2o           Adapting data   \n",
       "\n",
       "               Unnamed: 2         CreationDate  \n",
       "0        Data Preparation  2015-09-29 11:51:22  \n",
       "1         Choice of Model  2017-04-05 16:08:14  \n",
       "2  Hyper parameter tuning  2016-02-26 17:24:57  \n",
       "3        Data Preparation  2017-12-02 15:00:17  \n",
       "4        Data Preparation  2015-12-04 07:10:29  "
      ]
     },
     "execution_count": 230,
     "metadata": {},
     "output_type": "execute_result"
    }
   ],
   "source": [
    "h2o = pd.read_csv('h2o.csv')\n",
    "h2odate = pd.read_csv('h2odate.csv')\n",
    "resulth2o = pd.merge(h2o, h2odate, on=['Title', 'Title'])\n",
    "\n",
    "print(h2o.shape,resulth2o.shape)\n",
    "resulth2o.head()"
   ]
  },
  {
   "cell_type": "code",
   "execution_count": 231,
   "metadata": {
    "collapsed": false
   },
   "outputs": [
    {
     "name": "stdout",
     "output_type": "stream",
     "text": [
      "(392, 3) (387, 4)\n"
     ]
    },
    {
     "data": {
      "text/html": [
       "<div>\n",
       "<style scoped>\n",
       "    .dataframe tbody tr th:only-of-type {\n",
       "        vertical-align: middle;\n",
       "    }\n",
       "\n",
       "    .dataframe tbody tr th {\n",
       "        vertical-align: top;\n",
       "    }\n",
       "\n",
       "    .dataframe thead th {\n",
       "        text-align: right;\n",
       "    }\n",
       "</style>\n",
       "<table border=\"1\" class=\"dataframe\">\n",
       "  <thead>\n",
       "    <tr style=\"text-align: right;\">\n",
       "      <th></th>\n",
       "      <th>Title</th>\n",
       "      <th>Unnamed: 1</th>\n",
       "      <th>Unnamed: 2</th>\n",
       "      <th>CreationDate</th>\n",
       "    </tr>\n",
       "  </thead>\n",
       "  <tbody>\n",
       "    <tr>\n",
       "      <th>0</th>\n",
       "      <td>Why is my GPU slower than CPU when training LS...</td>\n",
       "      <td>Performance</td>\n",
       "      <td>Training</td>\n",
       "      <td>2017-01-31 01:37:53</td>\n",
       "    </tr>\n",
       "    <tr>\n",
       "      <th>1</th>\n",
       "      <td>What is the meaning of axis=-1 in keras.argmax?</td>\n",
       "      <td>Choice of Parameter</td>\n",
       "      <td>Training</td>\n",
       "      <td>2017-11-22 13:06:50</td>\n",
       "    </tr>\n",
       "    <tr>\n",
       "      <th>2</th>\n",
       "      <td>How to save Scikit-Learn-Keras Model into a Pe...</td>\n",
       "      <td>Storing Model</td>\n",
       "      <td>Library</td>\n",
       "      <td>2016-11-03 07:34:56</td>\n",
       "    </tr>\n",
       "    <tr>\n",
       "      <th>3</th>\n",
       "      <td>How to convert a dense layer to an equivalent ...</td>\n",
       "      <td>Model Creation</td>\n",
       "      <td>Choice of Model</td>\n",
       "      <td>2016-12-15 09:47:05</td>\n",
       "    </tr>\n",
       "    <tr>\n",
       "      <th>4</th>\n",
       "      <td>keras: how to save the training history</td>\n",
       "      <td>Storing Model</td>\n",
       "      <td>Library</td>\n",
       "      <td>2016-12-09 13:20:55</td>\n",
       "    </tr>\n",
       "  </tbody>\n",
       "</table>\n",
       "</div>"
      ],
      "text/plain": [
       "                                               Title           Unnamed: 1  \\\n",
       "0  Why is my GPU slower than CPU when training LS...          Performance   \n",
       "1    What is the meaning of axis=-1 in keras.argmax?  Choice of Parameter   \n",
       "2  How to save Scikit-Learn-Keras Model into a Pe...        Storing Model   \n",
       "3  How to convert a dense layer to an equivalent ...       Model Creation   \n",
       "4            keras: how to save the training history        Storing Model   \n",
       "\n",
       "        Unnamed: 2         CreationDate  \n",
       "0         Training  2017-01-31 01:37:53  \n",
       "1         Training  2017-11-22 13:06:50  \n",
       "2          Library  2016-11-03 07:34:56  \n",
       "3  Choice of Model  2016-12-15 09:47:05  \n",
       "4          Library  2016-12-09 13:20:55  "
      ]
     },
     "execution_count": 231,
     "metadata": {},
     "output_type": "execute_result"
    }
   ],
   "source": [
    "keras = pd.read_csv('keras.csv',encoding = \"ISO-8859-1\")\n",
    "kerasdate = pd.read_csv('kerasdate.csv',encoding = \"ISO-8859-1\")\n",
    "resultkeras = pd.merge(keras, kerasdate, on=['Title', 'Title'])\n",
    "\n",
    "print(keras.shape,resultkeras.shape)\n",
    "resultkeras.head()"
   ]
  },
  {
   "cell_type": "code",
   "execution_count": 232,
   "metadata": {
    "collapsed": false
   },
   "outputs": [
    {
     "name": "stdout",
     "output_type": "stream",
     "text": [
      "(48, 3) (46, 4)\n"
     ]
    },
    {
     "data": {
      "text/html": [
       "<div>\n",
       "<style scoped>\n",
       "    .dataframe tbody tr th:only-of-type {\n",
       "        vertical-align: middle;\n",
       "    }\n",
       "\n",
       "    .dataframe tbody tr th {\n",
       "        vertical-align: top;\n",
       "    }\n",
       "\n",
       "    .dataframe thead th {\n",
       "        text-align: right;\n",
       "    }\n",
       "</style>\n",
       "<table border=\"1\" class=\"dataframe\">\n",
       "  <thead>\n",
       "    <tr style=\"text-align: right;\">\n",
       "      <th></th>\n",
       "      <th>Title</th>\n",
       "      <th>Unnamed: 1</th>\n",
       "      <th>Unnamed: 2</th>\n",
       "      <th>CreationDate</th>\n",
       "    </tr>\n",
       "  </thead>\n",
       "  <tbody>\n",
       "    <tr>\n",
       "      <th>0</th>\n",
       "      <td>Recommendation Engines for Java applications</td>\n",
       "      <td>Model Creation</td>\n",
       "      <td>Choice of Model</td>\n",
       "      <td>2009-11-20 05:42:31</td>\n",
       "    </tr>\n",
       "    <tr>\n",
       "      <th>1</th>\n",
       "      <td>Spark - How to use the trained recommender mod...</td>\n",
       "      <td>Prediction</td>\n",
       "      <td>Prediction</td>\n",
       "      <td>2015-01-07 08:23:42</td>\n",
       "    </tr>\n",
       "    <tr>\n",
       "      <th>2</th>\n",
       "      <td>Recommendations using R with SimpleDB or BigQu...</td>\n",
       "      <td>Model Creation</td>\n",
       "      <td>Choice of Model</td>\n",
       "      <td>2011-08-19 12:33:48</td>\n",
       "    </tr>\n",
       "    <tr>\n",
       "      <th>3</th>\n",
       "      <td>Recommendation Systems using Solr and Mahout</td>\n",
       "      <td>Model Creation</td>\n",
       "      <td>Choice of Model</td>\n",
       "      <td>2012-11-28 01:26:30</td>\n",
       "    </tr>\n",
       "    <tr>\n",
       "      <th>4</th>\n",
       "      <td>Using Apache Mahout with Ruby on Rails</td>\n",
       "      <td>Model Creation</td>\n",
       "      <td>Choice of Model</td>\n",
       "      <td>2010-07-11 14:32:39</td>\n",
       "    </tr>\n",
       "  </tbody>\n",
       "</table>\n",
       "</div>"
      ],
      "text/plain": [
       "                                               Title      Unnamed: 1  \\\n",
       "0       Recommendation Engines for Java applications  Model Creation   \n",
       "1  Spark - How to use the trained recommender mod...      Prediction   \n",
       "2  Recommendations using R with SimpleDB or BigQu...  Model Creation   \n",
       "3       Recommendation Systems using Solr and Mahout  Model Creation   \n",
       "4             Using Apache Mahout with Ruby on Rails  Model Creation   \n",
       "\n",
       "        Unnamed: 2         CreationDate  \n",
       "0  Choice of Model  2009-11-20 05:42:31  \n",
       "1       Prediction  2015-01-07 08:23:42  \n",
       "2  Choice of Model  2011-08-19 12:33:48  \n",
       "3  Choice of Model  2012-11-28 01:26:30  \n",
       "4  Choice of Model  2010-07-11 14:32:39  "
      ]
     },
     "execution_count": 232,
     "metadata": {},
     "output_type": "execute_result"
    }
   ],
   "source": [
    "mahout = pd.read_csv('mahout.csv',encoding = \"ISO-8859-1\")\n",
    "mahoutdate = pd.read_csv('mahoutdate.csv',encoding = \"ISO-8859-1\")\n",
    "resultmahout = pd.merge(mahout, mahoutdate, on=['Title', 'Title'])\n",
    "\n",
    "print(mahout.shape,resultmahout.shape)\n",
    "resultmahout.head()"
   ]
  },
  {
   "cell_type": "code",
   "execution_count": 233,
   "metadata": {
    "collapsed": false
   },
   "outputs": [
    {
     "name": "stdout",
     "output_type": "stream",
     "text": [
      "(123, 3) (121, 4)\n"
     ]
    },
    {
     "data": {
      "text/html": [
       "<div>\n",
       "<style scoped>\n",
       "    .dataframe tbody tr th:only-of-type {\n",
       "        vertical-align: middle;\n",
       "    }\n",
       "\n",
       "    .dataframe tbody tr th {\n",
       "        vertical-align: top;\n",
       "    }\n",
       "\n",
       "    .dataframe thead th {\n",
       "        text-align: right;\n",
       "    }\n",
       "</style>\n",
       "<table border=\"1\" class=\"dataframe\">\n",
       "  <thead>\n",
       "    <tr style=\"text-align: right;\">\n",
       "      <th></th>\n",
       "      <th>Title</th>\n",
       "      <th>Unnamed: 1</th>\n",
       "      <th>Unnamed: 2</th>\n",
       "      <th>CreationDate</th>\n",
       "    </tr>\n",
       "  </thead>\n",
       "  <tbody>\n",
       "    <tr>\n",
       "      <th>0</th>\n",
       "      <td>Create labeledPoints from Spark DataFrame in P...</td>\n",
       "      <td>Adapting Data</td>\n",
       "      <td>Data Preparation</td>\n",
       "      <td>2015-09-14 01:29:26</td>\n",
       "    </tr>\n",
       "    <tr>\n",
       "      <th>1</th>\n",
       "      <td>How to convert RDD of dense vector into DataFr...</td>\n",
       "      <td>Adapting Data</td>\n",
       "      <td>Data Preparation</td>\n",
       "      <td>2016-12-26 09:05:26</td>\n",
       "    </tr>\n",
       "    <tr>\n",
       "      <th>2</th>\n",
       "      <td>Addition of two RDD[mllib.linalg.Vector]'s</td>\n",
       "      <td>Adapting Data</td>\n",
       "      <td>Data Preparation</td>\n",
       "      <td>2015-01-30 09:29:01</td>\n",
       "    </tr>\n",
       "    <tr>\n",
       "      <th>3</th>\n",
       "      <td>Spark ML - Save OneVsRestModel</td>\n",
       "      <td>Storing Model</td>\n",
       "      <td>Library</td>\n",
       "      <td>2016-03-27 03:17:29</td>\n",
       "    </tr>\n",
       "    <tr>\n",
       "      <th>4</th>\n",
       "      <td>Difference between org.apache.spark.ml.classif...</td>\n",
       "      <td>Model Creation</td>\n",
       "      <td>Choice of Model</td>\n",
       "      <td>2015-05-14 07:35:24</td>\n",
       "    </tr>\n",
       "  </tbody>\n",
       "</table>\n",
       "</div>"
      ],
      "text/plain": [
       "                                               Title      Unnamed: 1  \\\n",
       "0  Create labeledPoints from Spark DataFrame in P...   Adapting Data   \n",
       "1  How to convert RDD of dense vector into DataFr...   Adapting Data   \n",
       "2         Addition of two RDD[mllib.linalg.Vector]'s   Adapting Data   \n",
       "3                     Spark ML - Save OneVsRestModel   Storing Model   \n",
       "4  Difference between org.apache.spark.ml.classif...  Model Creation   \n",
       "\n",
       "         Unnamed: 2         CreationDate  \n",
       "0  Data Preparation  2015-09-14 01:29:26  \n",
       "1  Data Preparation  2016-12-26 09:05:26  \n",
       "2  Data Preparation  2015-01-30 09:29:01  \n",
       "3           Library  2016-03-27 03:17:29  \n",
       "4   Choice of Model  2015-05-14 07:35:24  "
      ]
     },
     "execution_count": 233,
     "metadata": {},
     "output_type": "execute_result"
    }
   ],
   "source": [
    "mllib = pd.read_csv('mllib.csv',encoding = \"ISO-8859-1\")\n",
    "mllibdate = pd.read_csv('mllibdate.csv',encoding = \"ISO-8859-1\")\n",
    "resultmllib = pd.merge(mllib, mllibdate, on=['Title', 'Title'])\n",
    "\n",
    "print(mllib.shape,resultmllib.shape)\n",
    "resultmllib.head()"
   ]
  },
  {
   "cell_type": "code",
   "execution_count": 234,
   "metadata": {
    "collapsed": false
   },
   "outputs": [
    {
     "name": "stdout",
     "output_type": "stream",
     "text": [
      "(859, 3) (850, 4)\n"
     ]
    },
    {
     "data": {
      "text/html": [
       "<div>\n",
       "<style scoped>\n",
       "    .dataframe tbody tr th:only-of-type {\n",
       "        vertical-align: middle;\n",
       "    }\n",
       "\n",
       "    .dataframe tbody tr th {\n",
       "        vertical-align: top;\n",
       "    }\n",
       "\n",
       "    .dataframe thead th {\n",
       "        text-align: right;\n",
       "    }\n",
       "</style>\n",
       "<table border=\"1\" class=\"dataframe\">\n",
       "  <thead>\n",
       "    <tr style=\"text-align: right;\">\n",
       "      <th></th>\n",
       "      <th>Title</th>\n",
       "      <th>Unnamed: 1</th>\n",
       "      <th>Unnamed: 2</th>\n",
       "      <th>CreationDate</th>\n",
       "    </tr>\n",
       "  </thead>\n",
       "  <tbody>\n",
       "    <tr>\n",
       "      <th>0</th>\n",
       "      <td>Performing PCA on large sparse matrix by using...</td>\n",
       "      <td>Model Creation</td>\n",
       "      <td>Choice of Model</td>\n",
       "      <td>2015-11-09 06:46:23</td>\n",
       "    </tr>\n",
       "    <tr>\n",
       "      <th>1</th>\n",
       "      <td>Under what parameters are SVC and LinearSVC in...</td>\n",
       "      <td>Choice of Parameters</td>\n",
       "      <td>Training</td>\n",
       "      <td>2015-11-21 13:36:54</td>\n",
       "    </tr>\n",
       "    <tr>\n",
       "      <th>2</th>\n",
       "      <td>Difference between score vs accuracy_score in ...</td>\n",
       "      <td>Accuracy</td>\n",
       "      <td>Training</td>\n",
       "      <td>2016-11-21 18:22:13</td>\n",
       "    </tr>\n",
       "    <tr>\n",
       "      <th>3</th>\n",
       "      <td>How to handle categorical variables in sklearn...</td>\n",
       "      <td>Adapting Data</td>\n",
       "      <td>Data Preparation</td>\n",
       "      <td>2014-07-11 21:15:58</td>\n",
       "    </tr>\n",
       "    <tr>\n",
       "      <th>4</th>\n",
       "      <td>Is scikit-learn suitable for big data tasks?</td>\n",
       "      <td>General Lirbrary</td>\n",
       "      <td>Library</td>\n",
       "      <td>2013-06-10 06:19:16</td>\n",
       "    </tr>\n",
       "  </tbody>\n",
       "</table>\n",
       "</div>"
      ],
      "text/plain": [
       "                                               Title            Unnamed: 1  \\\n",
       "0  Performing PCA on large sparse matrix by using...        Model Creation   \n",
       "1  Under what parameters are SVC and LinearSVC in...  Choice of Parameters   \n",
       "2  Difference between score vs accuracy_score in ...              Accuracy   \n",
       "3  How to handle categorical variables in sklearn...        Adapting Data    \n",
       "4       Is scikit-learn suitable for big data tasks?     General Lirbrary    \n",
       "\n",
       "         Unnamed: 2         CreationDate  \n",
       "0   Choice of Model  2015-11-09 06:46:23  \n",
       "1          Training  2015-11-21 13:36:54  \n",
       "2          Training  2016-11-21 18:22:13  \n",
       "3  Data Preparation  2014-07-11 21:15:58  \n",
       "4           Library  2013-06-10 06:19:16  "
      ]
     },
     "execution_count": 234,
     "metadata": {},
     "output_type": "execute_result"
    }
   ],
   "source": [
    "sklearn = pd.read_csv('sklearn.csv',encoding = \"ISO-8859-1\")\n",
    "sklearndate = pd.read_csv('sklearndate.csv',encoding = \"ISO-8859-1\")\n",
    "resultsklearn = pd.merge(sklearn, sklearndate, on=['Title', 'Title'])\n",
    "\n",
    "print(sklearn.shape,resultsklearn.shape)\n",
    "resultsklearn.head()"
   ]
  },
  {
   "cell_type": "code",
   "execution_count": 235,
   "metadata": {
    "collapsed": false
   },
   "outputs": [
    {
     "name": "stdout",
     "output_type": "stream",
     "text": [
      "(1356, 5) (1326, 6)\n"
     ]
    },
    {
     "data": {
      "text/html": [
       "<div>\n",
       "<style scoped>\n",
       "    .dataframe tbody tr th:only-of-type {\n",
       "        vertical-align: middle;\n",
       "    }\n",
       "\n",
       "    .dataframe tbody tr th {\n",
       "        vertical-align: top;\n",
       "    }\n",
       "\n",
       "    .dataframe thead th {\n",
       "        text-align: right;\n",
       "    }\n",
       "</style>\n",
       "<table border=\"1\" class=\"dataframe\">\n",
       "  <thead>\n",
       "    <tr style=\"text-align: right;\">\n",
       "      <th></th>\n",
       "      <th>Title</th>\n",
       "      <th>Unnamed: 1</th>\n",
       "      <th>Unnamed: 2</th>\n",
       "      <th>CreationDate</th>\n",
       "    </tr>\n",
       "  </thead>\n",
       "  <tbody>\n",
       "    <tr>\n",
       "      <th>0</th>\n",
       "      <td>TensorFlow: how is dataset.train.next_batch de...</td>\n",
       "      <td>Adapting Data</td>\n",
       "      <td>Data Preparation</td>\n",
       "      <td>2017-01-04 00:40:13</td>\n",
       "    </tr>\n",
       "    <tr>\n",
       "      <th>1</th>\n",
       "      <td>Problems implementing an XOR gate with Neural ...</td>\n",
       "      <td>Convergence</td>\n",
       "      <td>Training</td>\n",
       "      <td>2015-11-17 01:22:50</td>\n",
       "    </tr>\n",
       "    <tr>\n",
       "      <th>2</th>\n",
       "      <td>C++ Tensorflow, how to make session-&gt;Run() wit...</td>\n",
       "      <td>Performance</td>\n",
       "      <td>Training</td>\n",
       "      <td>2017-01-18 08:29:59</td>\n",
       "    </tr>\n",
       "    <tr>\n",
       "      <th>3</th>\n",
       "      <td>Tensorflow: Regarding tensorflow functions</td>\n",
       "      <td>General Library</td>\n",
       "      <td>Library</td>\n",
       "      <td>2017-01-22 16:59:04</td>\n",
       "    </tr>\n",
       "    <tr>\n",
       "      <th>4</th>\n",
       "      <td>Debugging nans in the backward pass</td>\n",
       "      <td>Data Cleaning</td>\n",
       "      <td>Data Preparation</td>\n",
       "      <td>2015-12-02 15:07:03</td>\n",
       "    </tr>\n",
       "  </tbody>\n",
       "</table>\n",
       "</div>"
      ],
      "text/plain": [
       "                                               Title       Unnamed: 1  \\\n",
       "0  TensorFlow: how is dataset.train.next_batch de...    Adapting Data   \n",
       "1  Problems implementing an XOR gate with Neural ...      Convergence   \n",
       "2  C++ Tensorflow, how to make session->Run() wit...      Performance   \n",
       "3         Tensorflow: Regarding tensorflow functions  General Library   \n",
       "4                Debugging nans in the backward pass    Data Cleaning   \n",
       "\n",
       "         Unnamed: 2         CreationDate  \n",
       "0  Data Preparation  2017-01-04 00:40:13  \n",
       "1          Training  2015-11-17 01:22:50  \n",
       "2          Training  2017-01-18 08:29:59  \n",
       "3           Library  2017-01-22 16:59:04  \n",
       "4  Data Preparation  2015-12-02 15:07:03  "
      ]
     },
     "execution_count": 235,
     "metadata": {},
     "output_type": "execute_result"
    }
   ],
   "source": [
    "tensor = pd.read_csv('tensorflow.csv',encoding = \"ISO-8859-1\")\n",
    "tensordate = pd.read_csv('tensorflowdate.csv',encoding = \"ISO-8859-1\")\n",
    "resulttensorflow = pd.merge(tensor, tensordate, on=['Title', 'Title'])\n",
    "\n",
    "print(tensor.shape,resulttensorflow.shape)\n",
    "resulttensorflow = resulttensorflow.drop(['Unnamed: 3','Unnamed: 4'],axis = 1)\n",
    "resulttensorflow.head()"
   ]
  },
  {
   "cell_type": "code",
   "execution_count": 236,
   "metadata": {
    "collapsed": false
   },
   "outputs": [
    {
     "name": "stdout",
     "output_type": "stream",
     "text": [
      "(191, 3) (190, 4)\n"
     ]
    },
    {
     "data": {
      "text/html": [
       "<div>\n",
       "<style scoped>\n",
       "    .dataframe tbody tr th:only-of-type {\n",
       "        vertical-align: middle;\n",
       "    }\n",
       "\n",
       "    .dataframe tbody tr th {\n",
       "        vertical-align: top;\n",
       "    }\n",
       "\n",
       "    .dataframe thead th {\n",
       "        text-align: right;\n",
       "    }\n",
       "</style>\n",
       "<table border=\"1\" class=\"dataframe\">\n",
       "  <thead>\n",
       "    <tr style=\"text-align: right;\">\n",
       "      <th></th>\n",
       "      <th>Title</th>\n",
       "      <th>Unnamed: 1</th>\n",
       "      <th>Unnamed: 2</th>\n",
       "      <th>CreationDate</th>\n",
       "    </tr>\n",
       "  </thead>\n",
       "  <tbody>\n",
       "    <tr>\n",
       "      <th>0</th>\n",
       "      <td>Theano CUDA exception</td>\n",
       "      <td>Platform</td>\n",
       "      <td>Library</td>\n",
       "      <td>2015-12-02 14:22:30</td>\n",
       "    </tr>\n",
       "    <tr>\n",
       "      <th>1</th>\n",
       "      <td>How to get reproducible results in keras</td>\n",
       "      <td>Prediction</td>\n",
       "      <td>Prediction</td>\n",
       "      <td>2015-09-06 02:41:11</td>\n",
       "    </tr>\n",
       "    <tr>\n",
       "      <th>2</th>\n",
       "      <td>Nolearn/Lasagne neural network not starting tr...</td>\n",
       "      <td>Convergence</td>\n",
       "      <td>Training</td>\n",
       "      <td>2015-09-14 12:42:13</td>\n",
       "    </tr>\n",
       "    <tr>\n",
       "      <th>3</th>\n",
       "      <td>Theano import error: No module named cPickle</td>\n",
       "      <td>Dependency</td>\n",
       "      <td>Library</td>\n",
       "      <td>2015-09-20 12:34:49</td>\n",
       "    </tr>\n",
       "    <tr>\n",
       "      <th>4</th>\n",
       "      <td>Theano: Why does indexing fail in this case?</td>\n",
       "      <td>Deprecated</td>\n",
       "      <td>Library</td>\n",
       "      <td>2013-05-31 01:54:35</td>\n",
       "    </tr>\n",
       "  </tbody>\n",
       "</table>\n",
       "</div>"
      ],
      "text/plain": [
       "                                               Title   Unnamed: 1  Unnamed: 2  \\\n",
       "0                              Theano CUDA exception     Platform     Library   \n",
       "1           How to get reproducible results in keras   Prediction  Prediction   \n",
       "2  Nolearn/Lasagne neural network not starting tr...  Convergence    Training   \n",
       "3       Theano import error: No module named cPickle   Dependency     Library   \n",
       "4       Theano: Why does indexing fail in this case?   Deprecated     Library   \n",
       "\n",
       "          CreationDate  \n",
       "0  2015-12-02 14:22:30  \n",
       "1  2015-09-06 02:41:11  \n",
       "2  2015-09-14 12:42:13  \n",
       "3  2015-09-20 12:34:49  \n",
       "4  2013-05-31 01:54:35  "
      ]
     },
     "execution_count": 236,
     "metadata": {},
     "output_type": "execute_result"
    }
   ],
   "source": [
    "theano = pd.read_csv('theano.csv',encoding = \"ISO-8859-1\")\n",
    "theanodate = pd.read_csv('theanodate.csv',encoding = \"ISO-8859-1\")\n",
    "resulttheano = pd.merge(theano, theanodate, on=['Title', 'Title'])\n",
    "\n",
    "print(theano.shape,resulttheano.shape)\n",
    "resulttheano.head()"
   ]
  },
  {
   "cell_type": "code",
   "execution_count": 237,
   "metadata": {
    "collapsed": false
   },
   "outputs": [
    {
     "name": "stdout",
     "output_type": "stream",
     "text": [
      "(61, 3) (58, 4)\n"
     ]
    },
    {
     "data": {
      "text/html": [
       "<div>\n",
       "<style scoped>\n",
       "    .dataframe tbody tr th:only-of-type {\n",
       "        vertical-align: middle;\n",
       "    }\n",
       "\n",
       "    .dataframe tbody tr th {\n",
       "        vertical-align: top;\n",
       "    }\n",
       "\n",
       "    .dataframe thead th {\n",
       "        text-align: right;\n",
       "    }\n",
       "</style>\n",
       "<table border=\"1\" class=\"dataframe\">\n",
       "  <thead>\n",
       "    <tr style=\"text-align: right;\">\n",
       "      <th></th>\n",
       "      <th>Title</th>\n",
       "      <th>Unnamed: 1</th>\n",
       "      <th>Unnamed: 2</th>\n",
       "      <th>CreationDate</th>\n",
       "    </tr>\n",
       "  </thead>\n",
       "  <tbody>\n",
       "    <tr>\n",
       "      <th>0</th>\n",
       "      <td>PyTorch's dataloader \"too many open files\" err...</td>\n",
       "      <td>Adapting data</td>\n",
       "      <td>Data Preparation</td>\n",
       "      <td>2018-01-14 13:27:22</td>\n",
       "    </tr>\n",
       "    <tr>\n",
       "      <th>1</th>\n",
       "      <td>Visualize images in intermediate layers in tor...</td>\n",
       "      <td>Evaluation Strategy</td>\n",
       "      <td>Evaluation</td>\n",
       "      <td>2015-07-20 06:18:53</td>\n",
       "    </tr>\n",
       "    <tr>\n",
       "      <th>2</th>\n",
       "      <td>Is this a practical way to resolve 'Not enough...</td>\n",
       "      <td>Adapting data</td>\n",
       "      <td>Data Preparation</td>\n",
       "      <td>2015-07-30 17:59:56</td>\n",
       "    </tr>\n",
       "    <tr>\n",
       "      <th>3</th>\n",
       "      <td>How to correctly implement a batch-input LSTM ...</td>\n",
       "      <td>Creation of Model</td>\n",
       "      <td>Choice of Model</td>\n",
       "      <td>2017-09-24 07:27:02</td>\n",
       "    </tr>\n",
       "    <tr>\n",
       "      <th>4</th>\n",
       "      <td>What is the proper way to weight decay for Ada...</td>\n",
       "      <td>Choice of Parameter</td>\n",
       "      <td>Training</td>\n",
       "      <td>2017-06-09 08:08:41</td>\n",
       "    </tr>\n",
       "  </tbody>\n",
       "</table>\n",
       "</div>"
      ],
      "text/plain": [
       "                                               Title           Unnamed: 1  \\\n",
       "0  PyTorch's dataloader \"too many open files\" err...        Adapting data   \n",
       "1  Visualize images in intermediate layers in tor...  Evaluation Strategy   \n",
       "2  Is this a practical way to resolve 'Not enough...        Adapting data   \n",
       "3  How to correctly implement a batch-input LSTM ...    Creation of Model   \n",
       "4  What is the proper way to weight decay for Ada...  Choice of Parameter   \n",
       "\n",
       "         Unnamed: 2         CreationDate  \n",
       "0  Data Preparation  2018-01-14 13:27:22  \n",
       "1        Evaluation  2015-07-20 06:18:53  \n",
       "2  Data Preparation  2015-07-30 17:59:56  \n",
       "3   Choice of Model  2017-09-24 07:27:02  \n",
       "4          Training  2017-06-09 08:08:41  "
      ]
     },
     "execution_count": 237,
     "metadata": {},
     "output_type": "execute_result"
    }
   ],
   "source": [
    "torch = pd.read_csv('torch.csv',encoding = \"ISO-8859-1\")\n",
    "torchdate = pd.read_csv('torchdate.csv',encoding = \"ISO-8859-1\")\n",
    "resulttorch = pd.merge(torch, torchdate, on=['Title', 'Title'])\n",
    "\n",
    "print(torch.shape,resulttorch.shape)\n",
    "resulttorch.head()"
   ]
  },
  {
   "cell_type": "code",
   "execution_count": 238,
   "metadata": {
    "collapsed": false
   },
   "outputs": [
    {
     "name": "stdout",
     "output_type": "stream",
     "text": [
      "(116, 3) (114, 4)\n"
     ]
    },
    {
     "data": {
      "text/html": [
       "<div>\n",
       "<style scoped>\n",
       "    .dataframe tbody tr th:only-of-type {\n",
       "        vertical-align: middle;\n",
       "    }\n",
       "\n",
       "    .dataframe tbody tr th {\n",
       "        vertical-align: top;\n",
       "    }\n",
       "\n",
       "    .dataframe thead th {\n",
       "        text-align: right;\n",
       "    }\n",
       "</style>\n",
       "<table border=\"1\" class=\"dataframe\">\n",
       "  <thead>\n",
       "    <tr style=\"text-align: right;\">\n",
       "      <th></th>\n",
       "      <th>Title</th>\n",
       "      <th>Unnamed: 1</th>\n",
       "      <th>Unnamed: 2</th>\n",
       "      <th>CreationDate</th>\n",
       "    </tr>\n",
       "  </thead>\n",
       "  <tbody>\n",
       "    <tr>\n",
       "      <th>0</th>\n",
       "      <td>Example for svm feature selection in R</td>\n",
       "      <td>Feature Selection</td>\n",
       "      <td>Data Preparation</td>\n",
       "      <td>2013-07-08 14:44:15</td>\n",
       "    </tr>\n",
       "    <tr>\n",
       "      <th>1</th>\n",
       "      <td>How can I use a different distance measure for...</td>\n",
       "      <td>Choice of Parameter</td>\n",
       "      <td>Training</td>\n",
       "      <td>2012-01-02 10:24:15</td>\n",
       "    </tr>\n",
       "    <tr>\n",
       "      <th>2</th>\n",
       "      <td>Java, Weka: How to predict numeric attribute?</td>\n",
       "      <td>Prediction</td>\n",
       "      <td>Prediction</td>\n",
       "      <td>2013-04-25 19:21:23</td>\n",
       "    </tr>\n",
       "    <tr>\n",
       "      <th>3</th>\n",
       "      <td>Detect a pronoun and its noun?</td>\n",
       "      <td>Model Creation</td>\n",
       "      <td>Choice of model</td>\n",
       "      <td>2012-04-01 07:39:09</td>\n",
       "    </tr>\n",
       "    <tr>\n",
       "      <th>4</th>\n",
       "      <td>what is the best way to generate fake data for...</td>\n",
       "      <td>Data cleaning</td>\n",
       "      <td>Data Preparation</td>\n",
       "      <td>2010-04-10 00:35:26</td>\n",
       "    </tr>\n",
       "  </tbody>\n",
       "</table>\n",
       "</div>"
      ],
      "text/plain": [
       "                                               Title           Unnamed: 1  \\\n",
       "0             Example for svm feature selection in R    Feature Selection   \n",
       "1  How can I use a different distance measure for...  Choice of Parameter   \n",
       "2      Java, Weka: How to predict numeric attribute?           Prediction   \n",
       "3                     Detect a pronoun and its noun?       Model Creation   \n",
       "4  what is the best way to generate fake data for...        Data cleaning   \n",
       "\n",
       "         Unnamed: 2         CreationDate  \n",
       "0  Data Preparation  2013-07-08 14:44:15  \n",
       "1          Training  2012-01-02 10:24:15  \n",
       "2        Prediction  2013-04-25 19:21:23  \n",
       "3   Choice of model  2012-04-01 07:39:09  \n",
       "4  Data Preparation  2010-04-10 00:35:26  "
      ]
     },
     "execution_count": 238,
     "metadata": {},
     "output_type": "execute_result"
    }
   ],
   "source": [
    "weka = pd.read_csv('weka.csv',encoding = \"ISO-8859-1\")\n",
    "wekadate = pd.read_csv('wekadate.csv',encoding = \"ISO-8859-1\")\n",
    "resultweka = pd.merge(weka, wekadate, on=['Title', 'Title'])\n",
    "\n",
    "print(weka.shape,resultweka.shape)\n",
    "resultweka.head()"
   ]
  },
  {
   "cell_type": "code",
   "execution_count": 239,
   "metadata": {
    "collapsed": false
   },
   "outputs": [
    {
     "data": {
      "text/plain": [
       "(3240, 4)"
      ]
     },
     "execution_count": 239,
     "metadata": {},
     "output_type": "execute_result"
    }
   ],
   "source": [
    "data = pd.concat([resultcaffe,resulth2o,resultkeras, resultmahout, resultmllib, resultsklearn, \n",
    "                  resulttensorflow, resulttheano, resulttorch,resultweka])\n",
    "data.shape"
   ]
  },
  {
   "cell_type": "code",
   "execution_count": 240,
   "metadata": {
    "collapsed": false
   },
   "outputs": [
    {
     "data": {
      "text/html": [
       "<div>\n",
       "<style scoped>\n",
       "    .dataframe tbody tr th:only-of-type {\n",
       "        vertical-align: middle;\n",
       "    }\n",
       "\n",
       "    .dataframe tbody tr th {\n",
       "        vertical-align: top;\n",
       "    }\n",
       "\n",
       "    .dataframe thead th {\n",
       "        text-align: right;\n",
       "    }\n",
       "</style>\n",
       "<table border=\"1\" class=\"dataframe\">\n",
       "  <thead>\n",
       "    <tr style=\"text-align: right;\">\n",
       "      <th></th>\n",
       "      <th>Title</th>\n",
       "      <th>CreationDate</th>\n",
       "      <th>subcat</th>\n",
       "      <th>cat</th>\n",
       "    </tr>\n",
       "  </thead>\n",
       "  <tbody>\n",
       "    <tr>\n",
       "      <th>0</th>\n",
       "      <td>Caffe: how to get the phase of a Python layer?</td>\n",
       "      <td>2015-12-31 17:35:59</td>\n",
       "      <td>Model Creation</td>\n",
       "      <td>Choice of Model</td>\n",
       "    </tr>\n",
       "    <tr>\n",
       "      <th>1</th>\n",
       "      <td>What does global pooling do?</td>\n",
       "      <td>2017-02-06 14:45:51</td>\n",
       "      <td>Model Creation</td>\n",
       "      <td>Choice of Model</td>\n",
       "    </tr>\n",
       "    <tr>\n",
       "      <th>2</th>\n",
       "      <td>Caffe didn't see hdf5.h when compiling</td>\n",
       "      <td>2016-05-03 14:53:38</td>\n",
       "      <td>Dependency</td>\n",
       "      <td>Library</td>\n",
       "    </tr>\n",
       "    <tr>\n",
       "      <th>3</th>\n",
       "      <td>what does C-contiguous fashion mean in caffe b...</td>\n",
       "      <td>2016-06-02 16:53:45</td>\n",
       "      <td>Model Creation</td>\n",
       "      <td>Choice of Model</td>\n",
       "    </tr>\n",
       "    <tr>\n",
       "      <th>4</th>\n",
       "      <td>Caffe layer creation failure</td>\n",
       "      <td>2015-05-19 12:04:11</td>\n",
       "      <td>Model Creation error</td>\n",
       "      <td>Choice of Model</td>\n",
       "    </tr>\n",
       "  </tbody>\n",
       "</table>\n",
       "</div>"
      ],
      "text/plain": [
       "                                               Title         CreationDate  \\\n",
       "0     Caffe: how to get the phase of a Python layer?  2015-12-31 17:35:59   \n",
       "1                       What does global pooling do?  2017-02-06 14:45:51   \n",
       "2             Caffe didn't see hdf5.h when compiling  2016-05-03 14:53:38   \n",
       "3  what does C-contiguous fashion mean in caffe b...  2016-06-02 16:53:45   \n",
       "4                       Caffe layer creation failure  2015-05-19 12:04:11   \n",
       "\n",
       "                 subcat              cat  \n",
       "0        Model Creation  Choice of Model  \n",
       "1        Model Creation  Choice of Model  \n",
       "2            Dependency          Library  \n",
       "3        Model Creation  Choice of Model  \n",
       "4  Model Creation error  Choice of Model  "
      ]
     },
     "execution_count": 240,
     "metadata": {},
     "output_type": "execute_result"
    }
   ],
   "source": [
    "data.head()\n",
    "data['subcat'] = data['Unnamed: 1']\n",
    "data['cat'] = data['Unnamed: 2']\n",
    "data = data.drop(['Unnamed: 1','Unnamed: 2'],axis = 1)\n",
    "data.head()"
   ]
  },
  {
   "cell_type": "code",
   "execution_count": 241,
   "metadata": {
    "collapsed": false
   },
   "outputs": [
    {
     "data": {
      "text/html": [
       "<div>\n",
       "<style scoped>\n",
       "    .dataframe tbody tr th:only-of-type {\n",
       "        vertical-align: middle;\n",
       "    }\n",
       "\n",
       "    .dataframe tbody tr th {\n",
       "        vertical-align: top;\n",
       "    }\n",
       "\n",
       "    .dataframe thead th {\n",
       "        text-align: right;\n",
       "    }\n",
       "</style>\n",
       "<table border=\"1\" class=\"dataframe\">\n",
       "  <thead>\n",
       "    <tr style=\"text-align: right;\">\n",
       "      <th></th>\n",
       "      <th>Title</th>\n",
       "      <th>CreationDate</th>\n",
       "      <th>subcat</th>\n",
       "      <th>cat</th>\n",
       "      <th>created</th>\n",
       "    </tr>\n",
       "  </thead>\n",
       "  <tbody>\n",
       "    <tr>\n",
       "      <th>0</th>\n",
       "      <td>Caffe: how to get the phase of a Python layer?</td>\n",
       "      <td>2015-12-31 17:35:59</td>\n",
       "      <td>Model Creation</td>\n",
       "      <td>Choice of Model</td>\n",
       "      <td>2015-12-31 17:35:59</td>\n",
       "    </tr>\n",
       "    <tr>\n",
       "      <th>1</th>\n",
       "      <td>What does global pooling do?</td>\n",
       "      <td>2017-02-06 14:45:51</td>\n",
       "      <td>Model Creation</td>\n",
       "      <td>Choice of Model</td>\n",
       "      <td>2017-02-06 14:45:51</td>\n",
       "    </tr>\n",
       "    <tr>\n",
       "      <th>2</th>\n",
       "      <td>Caffe didn't see hdf5.h when compiling</td>\n",
       "      <td>2016-05-03 14:53:38</td>\n",
       "      <td>Dependency</td>\n",
       "      <td>Library</td>\n",
       "      <td>2016-05-03 14:53:38</td>\n",
       "    </tr>\n",
       "    <tr>\n",
       "      <th>3</th>\n",
       "      <td>what does C-contiguous fashion mean in caffe b...</td>\n",
       "      <td>2016-06-02 16:53:45</td>\n",
       "      <td>Model Creation</td>\n",
       "      <td>Choice of Model</td>\n",
       "      <td>2016-06-02 16:53:45</td>\n",
       "    </tr>\n",
       "    <tr>\n",
       "      <th>4</th>\n",
       "      <td>Caffe layer creation failure</td>\n",
       "      <td>2015-05-19 12:04:11</td>\n",
       "      <td>Model Creation error</td>\n",
       "      <td>Choice of Model</td>\n",
       "      <td>2015-05-19 12:04:11</td>\n",
       "    </tr>\n",
       "  </tbody>\n",
       "</table>\n",
       "</div>"
      ],
      "text/plain": [
       "                                               Title         CreationDate  \\\n",
       "0     Caffe: how to get the phase of a Python layer?  2015-12-31 17:35:59   \n",
       "1                       What does global pooling do?  2017-02-06 14:45:51   \n",
       "2             Caffe didn't see hdf5.h when compiling  2016-05-03 14:53:38   \n",
       "3  what does C-contiguous fashion mean in caffe b...  2016-06-02 16:53:45   \n",
       "4                       Caffe layer creation failure  2015-05-19 12:04:11   \n",
       "\n",
       "                 subcat              cat             created  \n",
       "0        Model Creation  Choice of Model 2015-12-31 17:35:59  \n",
       "1        Model Creation  Choice of Model 2017-02-06 14:45:51  \n",
       "2            Dependency          Library 2016-05-03 14:53:38  \n",
       "3        Model Creation  Choice of Model 2016-06-02 16:53:45  \n",
       "4  Model Creation error  Choice of Model 2015-05-19 12:04:11  "
      ]
     },
     "execution_count": 241,
     "metadata": {},
     "output_type": "execute_result"
    }
   ],
   "source": [
    "type(data['CreationDate'].iloc[0])\n",
    "from datetime import datetime\n",
    "\n",
    "datetime_object = datetime.strptime(data['CreationDate'].iloc[0], '%Y-%m-%d %H:%M:%S')\n",
    "datetime_object.second\n",
    "data['created'] = data['CreationDate'].apply(lambda x : \n",
    "                                             datetime.strptime(x, '%Y-%m-%d %H:%M:%S'))\n",
    "data.head()"
   ]
  },
  {
   "cell_type": "code",
   "execution_count": 242,
   "metadata": {
    "collapsed": false
   },
   "outputs": [],
   "source": [
    "group = data.groupby(['cat'], as_index = False)"
   ]
  },
  {
   "cell_type": "code",
   "execution_count": 243,
   "metadata": {
    "collapsed": false
   },
   "outputs": [
    {
     "data": {
      "text/plain": [
       "{2009: {'Choice of Model': 2, 'Prediction': 1, 'Training': 1},\n",
       " 2010: {'Choice of Model': 2,\n",
       "  'Choice of model': 3,\n",
       "  'Data Preparation': 2,\n",
       "  'Evaluation': 1,\n",
       "  'Library': 3,\n",
       "  'Training': 1},\n",
       " 2011: {'Choice of Model': 5,\n",
       "  'Choice of model': 9,\n",
       "  'Data Preparation': 12,\n",
       "  'Evaluation': 3,\n",
       "  'Library': 11,\n",
       "  'Prediction': 2,\n",
       "  'Training': 2},\n",
       " 2012: {'Choice of Model': 18,\n",
       "  'Training': 13,\n",
       "  'Data Preparation': 29,\n",
       "  'Library': 18,\n",
       "  'Prediction': 12,\n",
       "  nan: 1,\n",
       "  'Hyperparameter tuning': 2,\n",
       "  'Evaluation': 8,\n",
       "  'Choice of model': 7},\n",
       " 2013: {'Choice of Model': 43,\n",
       "  'Choice of model': 5,\n",
       "  'Data Preparation': 52,\n",
       "  'Evaluation': 12,\n",
       "  'Hyperparameter tuning': 7,\n",
       "  'Library': 21,\n",
       "  'Prediction': 18,\n",
       "  'Training': 26},\n",
       " 2014: {'Data Preparation': 69,\n",
       "  'Library': 37,\n",
       "  'Training': 45,\n",
       "  'Choice of Model': 53,\n",
       "  'Prediction': 9,\n",
       "  'Evaluation': 24,\n",
       "  'Hyperparameter tuning': 10,\n",
       "  nan: 1,\n",
       "  'Choice of model': 10},\n",
       " 2015: {'Choice of Model': 112,\n",
       "  'Training': 124,\n",
       "  'Library': 139,\n",
       "  'Data Preparation': 153,\n",
       "  'Prediction': 42,\n",
       "  'Hyper parameter tuning': 1,\n",
       "  'Evaluation': 42,\n",
       "  'Hyperparameter tuning': 3,\n",
       "  nan: 1,\n",
       "  'Choice of model': 12},\n",
       " 2016: {'Library': 297,\n",
       "  'Choice of Model': 262,\n",
       "  'Training': 262,\n",
       "  'Data Preparation': 235,\n",
       "  'Hyper parameter tuning': 6,\n",
       "  'Prediction': 55,\n",
       "  'Evaluation': 89,\n",
       "  'Hyperparameter tuning': 12,\n",
       "  'choice of Model': 1,\n",
       "  nan: 1,\n",
       "  'Choice of model': 19},\n",
       " 2017: {'Choice of Model': 157,\n",
       "  'Choice of model': 3,\n",
       "  'Data Preparation': 113,\n",
       "  'Evaluation': 60,\n",
       "  'Hyper parameter tuning': 1,\n",
       "  'Hyperparameter tuning': 10,\n",
       "  'Library': 169,\n",
       "  'Pipeline': 1,\n",
       "  'Prediction': 55,\n",
       "  'Training': 179},\n",
       " 2018: {'Choice of Model': 5,\n",
       "  'Data Preparation': 5,\n",
       "  'Evaluation': 1,\n",
       "  'Hyperparameter tuning': 1,\n",
       "  'Training': 2}}"
      ]
     },
     "execution_count": 243,
     "metadata": {},
     "output_type": "execute_result"
    }
   ],
   "source": [
    "chartdata =  {}\n",
    "for index, row in data.iterrows():\n",
    "    if row.created.year not in chartdata:\n",
    "        chartdata[row.created.year] = {}\n",
    "    if row['cat'] not in chartdata[row.created.year]:\n",
    "        chartdata[row.created.year][row['cat']] = 0\n",
    "    chartdata[row.created.year][row['cat']] = chartdata[row.created.year][row['cat']] + 1\n",
    "chartdata"
   ]
  },
  {
   "cell_type": "code",
   "execution_count": 244,
   "metadata": {
    "collapsed": false
   },
   "outputs": [
    {
     "name": "stdout",
     "output_type": "stream",
     "text": [
      "[[], [], [], [], [], [], []]\n"
     ]
    },
    {
     "data": {
      "text/plain": [
       "[[0, 2, 12, 29, 52, 69, 153, 235, 113, 5],\n",
       " [2, 5, 14, 25, 48, 63, 124, 281, 160, 5],\n",
       " [1, 1, 2, 13, 26, 45, 124, 262, 179, 2],\n",
       " [0, 1, 3, 8, 12, 24, 42, 89, 60, 1],\n",
       " [0, 0, 0, 2, 7, 10, 4, 18, 11, 1],\n",
       " [1, 0, 2, 12, 18, 9, 42, 55, 55, 0],\n",
       " [0, 3, 11, 18, 21, 37, 139, 297, 169, 0]]"
      ]
     },
     "execution_count": 244,
     "metadata": {},
     "output_type": "execute_result"
    }
   ],
   "source": [
    "X = []\n",
    "for year in chartdata:\n",
    "    X.append(year)\n",
    "X = sorted(X)\n",
    "Y = []\n",
    "for x in range(0, 7):\n",
    "    Y.append([])\n",
    "print(Y)\n",
    "i = 0\n",
    "for year in X:\n",
    "    if 'Data Preparation' in chartdata[year]:\n",
    "        Y[0].append(chartdata[year]['Data Preparation'])\n",
    "    else:\n",
    "        Y[0].append(0)\n",
    "    if 'Choice of Model' in chartdata[year]:\n",
    "        if 'Choice of model' in chartdata[year]:\n",
    "            chartdata[year]['Choice of Model'] = chartdata[year]['Choice of Model'] + chartdata[year]['Choice of model']\n",
    "        Y[1].append(chartdata[year]['Choice of Model'])\n",
    "    else:\n",
    "        Y[1].append(0)\n",
    "    if 'Training' in chartdata[year]:\n",
    "        Y[2].append(chartdata[year]['Training'])\n",
    "    else:\n",
    "        Y[2].append(0)\n",
    "    if 'Evaluation' in chartdata[year]:\n",
    "        Y[3].append(chartdata[year]['Evaluation'])\n",
    "    else:\n",
    "        Y[3].append(0)\n",
    "    if 'Hyper parameter tuning' in chartdata[year]:\n",
    "        if 'Hyperparameter tuning' in chartdata[year]:\n",
    "            chartdata[year]['Hyper parameter tuning'] += chartdata[year]['Hyperparameter tuning']\n",
    "        Y[4].append(chartdata[year]['Hyper parameter tuning'])\n",
    "    else:\n",
    "        if 'Hyperparameter tuning' in chartdata[year]:\n",
    "            Y[4].append(chartdata[year]['Hyperparameter tuning'])\n",
    "        else:\n",
    "            Y[4].append(0)\n",
    "    if 'Prediction' in chartdata[year]:\n",
    "        Y[5].append(chartdata[year]['Prediction'])\n",
    "    else:\n",
    "        Y[5].append(0)\n",
    "    if 'Library' in chartdata[year]:\n",
    "        Y[6].append(chartdata[year]['Library'])\n",
    "    else:\n",
    "        Y[6].append(0)\n",
    "Y"
   ]
  },
  {
   "cell_type": "code",
   "execution_count": 245,
   "metadata": {
    "collapsed": false
   },
   "outputs": [
    {
     "name": "stdout",
     "output_type": "stream",
     "text": [
      "10 10\n"
     ]
    },
    {
     "data": {
      "image/png": "[encoded data removed]",
      "text/plain": [
       "<Figure size 1296x720 with 1 Axes>"
      ]
     },
     "metadata": {},
     "output_type": "display_data"
    }
   ],
   "source": [
    "import numpy as np\n",
    "\n",
    "import matplotlib.pyplot as plt\n",
    "X = np.array(X)\n",
    "Y = np.array(Y)\n",
    "print( len(X), len(Y[0]))\n",
    "plt.figure(figsize=(18,10))\n",
    "plt.xticks(X)\n",
    "plt.stackplot(X,Y, labels=['Data Preparation','Choice of model','Training','Evaluation',\n",
    "                           'Hyper parameter tuning','Prediction','Library'])\n",
    "plt.legend(loc='upper left')\n",
    "plt.show()"
   ]
  },
  {
   "cell_type": "code",
   "execution_count": 246,
   "metadata": {
    "collapsed": false
   },
   "outputs": [
    {
     "data": {
      "text/plain": [
       "array([   4,   12,   44,  107,  184,  257,  628, 1237,  747,   14])"
      ]
     },
     "execution_count": 246,
     "metadata": {},
     "output_type": "execute_result"
    }
   ],
   "source": [
    "Ys = np.sum(Y,axis = 0)\n",
    "Ys"
   ]
  },
  {
   "cell_type": "code",
   "execution_count": 247,
   "metadata": {
    "collapsed": false
   },
   "outputs": [
    {
     "data": {
      "text/plain": [
       "array([[  0.        ,  16.66666667,  27.27272727,  27.10280374,\n",
       "         28.26086957,  26.84824903,  24.36305732,  18.99757478,\n",
       "         15.12717537,  35.71428571],\n",
       "       [ 50.        ,  41.66666667,  31.81818182,  23.36448598,\n",
       "         26.08695652,  24.51361868,  19.74522293,  22.71624899,\n",
       "         21.41900937,  35.71428571],\n",
       "       [ 25.        ,   8.33333333,   4.54545455,  12.14953271,\n",
       "         14.13043478,  17.50972763,  19.74522293,  21.18027486,\n",
       "         23.96251673,  14.28571429],\n",
       "       [  0.        ,   8.33333333,   6.81818182,   7.47663551,\n",
       "          6.52173913,   9.3385214 ,   6.68789809,   7.19482619,\n",
       "          8.03212851,   7.14285714],\n",
       "       [  0.        ,   0.        ,   0.        ,   1.86915888,\n",
       "          3.80434783,   3.89105058,   0.63694268,   1.45513339,\n",
       "          1.47255689,   7.14285714],\n",
       "       [ 25.        ,   0.        ,   4.54545455,  11.21495327,\n",
       "          9.7826087 ,   3.50194553,   6.68789809,   4.44624091,\n",
       "          7.36278447,   0.        ],\n",
       "       [  0.        ,  25.        ,  25.        ,  16.82242991,\n",
       "         11.41304348,  14.39688716,  22.13375796,  24.00970089,\n",
       "         22.62382865,   0.        ]])"
      ]
     },
     "execution_count": 247,
     "metadata": {},
     "output_type": "execute_result"
    }
   ],
   "source": [
    "Z = np.zeros((7,10))\n",
    "#print(len(Y))\n",
    "for i in range(0, len(Y[0])):\n",
    "    for j in range (0,7):\n",
    "        Z[j][i]  = 100*Y[j][i]/Ys[i]\n",
    "Z"
   ]
  },
  {
   "cell_type": "code",
   "execution_count": 248,
   "metadata": {
    "collapsed": false
   },
   "outputs": [
    {
     "name": "stdout",
     "output_type": "stream",
     "text": [
      "10 10\n"
     ]
    },
    {
     "data": {
      "image/png": "[encoded data removed]",
      "text/plain": [
       "<Figure size 1296x720 with 1 Axes>"
      ]
     },
     "metadata": {},
     "output_type": "display_data"
    }
   ],
   "source": [
    "import numpy as np\n",
    "\n",
    "import matplotlib.pyplot as plt\n",
    "X = np.array(X)\n",
    "Y = np.array(Y)\n",
    "print( len(X), len(Y[0]))\n",
    "plt.figure(figsize=(18,10))\n",
    "plt.xticks(X)\n",
    "plt.stackplot(X,Z, labels=['Data Preparation','Choice of model','Training','Evaluation',\n",
    "                           'Hyper parameter tuning','Prediction','Library'])\n",
    "plt.legend(loc='upper left')\n",
    "plt.show()"
   ]
  },
  {
   "cell_type": "code",
   "execution_count": 250,
   "metadata": {
    "collapsed": false
   },
   "outputs": [
    {
     "name": "stdout",
     "output_type": "stream",
     "text": [
      "[2010 2011 2012 2013 2014 2015 2016 2017 2018]\n",
      "[[ 16.66666667  27.27272727  27.10280374  28.26086957  26.84824903\n",
      "   24.36305732  18.99757478  15.12717537  35.71428571]\n",
      " [ 41.66666667  31.81818182  23.36448598  26.08695652  24.51361868\n",
      "   19.74522293  22.71624899  21.41900937  35.71428571]\n",
      " [  8.33333333   4.54545455  12.14953271  14.13043478  17.50972763\n",
      "   19.74522293  21.18027486  23.96251673  14.28571429]\n",
      " [  8.33333333   6.81818182   7.47663551   6.52173913   9.3385214\n",
      "    6.68789809   7.19482619   8.03212851   7.14285714]\n",
      " [  0.           0.           1.86915888   3.80434783   3.89105058\n",
      "    0.63694268   1.45513339   1.47255689   7.14285714]\n",
      " [  0.           4.54545455  11.21495327   9.7826087    3.50194553\n",
      "    6.68789809   4.44624091   7.36278447   0.        ]\n",
      " [ 25.          25.          16.82242991  11.41304348  14.39688716\n",
      "   22.13375796  24.00970089  22.62382865   0.        ]]\n",
      "9 9\n"
     ]
    },
    {
     "data": {
      "image/png": "[encoded data removed]",
      "text/plain": [
       "<Figure size 1296x720 with 1 Axes>"
      ]
     },
     "metadata": {},
     "output_type": "display_data"
    }
   ],
   "source": [
    "import numpy as np\n",
    "\n",
    "import matplotlib.pyplot as plt\n",
    "f = lambda x: x[1:]\n",
    "#Zt = f(Z)\n",
    "Zt = np.apply_along_axis(f, 1, Z)\n",
    "X = np.array(X)\n",
    "Xt = X[1:]\n",
    "print(Xt)\n",
    "print(Zt)\n",
    "print( len(Xt), len(Zt[0]))\n",
    "plt.figure(figsize=(18,10))\n",
    "plt.xticks(X)\n",
    "plt.stackplot(Xt,Zt, labels=['Data Preparation','Choice of model','Training','Evaluation',\n",
    "                           'Hyper parameter tuning','Prediction','Library'])\n",
    "plt.legend(loc='upper left')\n",
    "plt.xlabel('Years',fontsize=18)\n",
    "plt.ylabel('% of posts at different stages over 10 libraries',fontsize=18)\n",
    "plt.show()"
   ]
  },
  {
   "cell_type": "code",
   "execution_count": 221,
   "metadata": {
    "collapsed": false
   },
   "outputs": [
    {
     "name": "stdout",
     "output_type": "stream",
     "text": [
      "[[], [], [], [], [], [], []]\n",
      "[2010 2011 2012 2013 2014 2015 2016 2017 2018]\n",
      "[[  0.          23.52941176  28.76712329  26.28205128  26.61290323  24.32\n",
      "   18.88168558  15.12717537  35.71428571]\n",
      " [ 50.          29.41176471  24.65753425  28.20512821  25.          19.84\n",
      "   22.77147488  21.41900937  35.71428571]\n",
      " [  0.           5.88235294  10.95890411  14.74358974  17.33870968  19.84\n",
      "   21.23176661  23.96251673  14.28571429]\n",
      " [  0.           5.88235294   5.47945205   5.76923077   9.67741935   6.4\n",
      "    7.21231767   8.03212851   7.14285714]\n",
      " [  0.           0.           2.73972603   4.48717949   4.03225806   0.64\n",
      "    1.45867099   1.47255689   7.14285714]\n",
      " [  0.           0.           8.21917808   9.61538462   3.22580645   6.72\n",
      "    4.45705024   7.36278447   0.        ]\n",
      " [ 50.          35.29411765  19.17808219  10.8974359   14.11290323  22.24\n",
      "   23.98703404  22.62382865   0.        ]]\n",
      "9 9\n"
     ]
    },
    {
     "data": {
      "image/png": "[encoded data removed]",
      "text/plain": [
       "<Figure size 1296x720 with 1 Axes>"
      ]
     },
     "metadata": {},
     "output_type": "display_data"
    }
   ],
   "source": [
    "data2 = pd.concat([resultcaffe,resulth2o,resultkeras, resultmahout, resultmllib, resultsklearn, \n",
    "                  resulttensorflow, resulttheano, resulttorch])\n",
    "data2['subcat'] = data2['Unnamed: 1']\n",
    "data2['cat'] = data2['Unnamed: 2']\n",
    "data2 = data2.drop(['Unnamed: 1','Unnamed: 2'],axis = 1)\n",
    "data2.head()\n",
    "datetime_object2 = datetime.strptime(data2['CreationDate'].iloc[0], '%Y-%m-%d %H:%M:%S')\n",
    "datetime_object2.second\n",
    "data2['created'] = data2['CreationDate'].apply(lambda x : \n",
    "                                             datetime.strptime(x, '%Y-%m-%d %H:%M:%S'))\n",
    "data.head()\n",
    "group2 = data2.groupby(['cat'], as_index = False)\n",
    "chartdata2 =  {}\n",
    "for index, row in data2.iterrows():\n",
    "    if row.created.year not in chartdata2:\n",
    "        chartdata2[row.created.year] = {}\n",
    "    if row['cat'] not in chartdata2[row.created.year]:\n",
    "        chartdata2[row.created.year][row['cat']] = 0\n",
    "    chartdata2[row.created.year][row['cat']] = chartdata2[row.created.year][row['cat']] + 1\n",
    "chartdata2\n",
    "X = []\n",
    "for year in chartdata2:\n",
    "    X.append(year)\n",
    "X = sorted(X)\n",
    "Y = []\n",
    "for x in range(0, 7):\n",
    "    Y.append([])\n",
    "print(Y)\n",
    "i = 0\n",
    "for year in X:\n",
    "    if 'Data Preparation' in chartdata2[year]:\n",
    "        Y[0].append(chartdata2[year]['Data Preparation'])\n",
    "    else:\n",
    "        Y[0].append(0)\n",
    "    if 'Choice of Model' in chartdata2[year]:\n",
    "        if 'Choice of model' in chartdata2[year]:\n",
    "            chartdata2[year]['Choice of Model'] = chartdata2[year]['Choice of Model'] + chartdata2[year]['Choice of model']\n",
    "        Y[1].append(chartdata2[year]['Choice of Model'])\n",
    "    else:\n",
    "        Y[1].append(0)\n",
    "    if 'Training' in chartdata2[year]:\n",
    "        Y[2].append(chartdata2[year]['Training'])\n",
    "    else:\n",
    "        Y[2].append(0)\n",
    "    if 'Evaluation' in chartdata2[year]:\n",
    "        Y[3].append(chartdata2[year]['Evaluation'])\n",
    "    else:\n",
    "        Y[3].append(0)\n",
    "    if 'Hyper parameter tuning' in chartdata2[year]:\n",
    "        if 'Hyperparameter tuning' in chartdata2[year]:\n",
    "            chartdata2[year]['Hyper parameter tuning'] += chartdata2[year]['Hyperparameter tuning']\n",
    "        Y[4].append(chartdata2[year]['Hyper parameter tuning'])\n",
    "    else:\n",
    "        if 'Hyperparameter tuning' in chartdata2[year]:\n",
    "            Y[4].append(chartdata2[year]['Hyperparameter tuning'])\n",
    "        else:\n",
    "            Y[4].append(0)\n",
    "    if 'Prediction' in chartdata2[year]:\n",
    "        Y[5].append(chartdata2[year]['Prediction'])\n",
    "    else:\n",
    "        Y[5].append(0)\n",
    "    if 'Library' in chartdata2[year]:\n",
    "        Y[6].append(chartdata2[year]['Library'])\n",
    "    else:\n",
    "        Y[6].append(0)\n",
    "Y\n",
    "\n",
    "Ys = np.sum(Y,axis = 0)\n",
    "Ys\n",
    "Z = np.zeros((7,10))\n",
    "#print(len(Y))\n",
    "for i in range(0, len(Y[0])):\n",
    "    for j in range (0,7):\n",
    "        Z[j][i]  = 100*Y[j][i]/Ys[i]\n",
    "Z\n",
    "\n",
    "X = np.array(X)\n",
    "Y = np.array(Y)\n",
    "f = lambda x: x[1:]\n",
    "#Zt = f(Z)\n",
    "Zt = np.apply_along_axis(f, 1, Z)\n",
    "X = np.array(X)\n",
    "Xt = X[1:]\n",
    "print(Xt)\n",
    "print(Zt)\n",
    "print( len(Xt), len(Zt[0]))\n",
    "plt.figure(figsize=(18,10))\n",
    "plt.xticks(X)\n",
    "plt.stackplot(Xt,Zt, labels=['Data Preparation','Choice of model','Training','Evaluation',\n",
    "                           'Hyper parameter tuning','Prediction','Library'])\n",
    "plt.legend(loc='upper left')\n",
    "plt.show()"
   ]
  },
  {
   "cell_type": "code",
   "execution_count": null,
   "metadata": {
    "collapsed": false
   },
   "outputs": [],
   "source": []
  },
  {
   "cell_type": "code",
   "execution_count": null,
   "metadata": {
    "collapsed": true
   },
   "outputs": [],
   "source": []
  }
 ],
 "metadata": {
  "kernelspec": {
   "display_name": "Python 3",
   "language": "python",
   "name": "python3"
  },
  "language_info": {
   "codemirror_mode": {
    "name": "ipython",
    "version": 3
   },
   "file_extension": ".py",
   "mimetype": "text/x-python",
   "name": "python",
   "nbconvert_exporter": "python",
   "pygments_lexer": "ipython3",
   "version": "3.6.4"
  }
 },
 "nbformat": 4,
 "nbformat_minor": 2
}
